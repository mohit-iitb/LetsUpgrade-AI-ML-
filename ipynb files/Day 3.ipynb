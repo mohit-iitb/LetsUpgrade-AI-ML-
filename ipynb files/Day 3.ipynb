{
 "cells": [
  {
   "cell_type": "markdown",
   "metadata": {},
   "source": [
    "# Assignment Day 3"
   ]
  },
  {
   "cell_type": "markdown",
   "metadata": {},
   "source": [
    "\n",
    "1. Write a program to subtract two complex numbers in Python. "
   ]
  },
  {
   "cell_type": "code",
   "execution_count": 3,
   "metadata": {},
   "outputs": [
    {
     "name": "stdout",
     "output_type": "stream",
     "text": [
      "substraction of two complex number (5+4j) and (3-9j) is (2+13j)\n"
     ]
    }
   ],
   "source": [
    "z1 = 5+4j\n",
    "z2 = 3-9j\n",
    "\n",
    "print(\"substraction of two complex number\",z1,\"and\",z2,\"is\",z1-z2)"
   ]
  },
  {
   "cell_type": "markdown",
   "metadata": {},
   "source": [
    "\n",
    "2. Write a program to find the fourth root of a number.\n"
   ]
  },
  {
   "cell_type": "code",
   "execution_count": 5,
   "metadata": {},
   "outputs": [
    {
     "name": "stdout",
     "output_type": "stream",
     "text": [
      "The fourth root of given number is 2.0\n"
     ]
    }
   ],
   "source": [
    "a = 16\n",
    "print('The fourth root of given number is',a ** .25)"
   ]
  },
  {
   "cell_type": "markdown",
   "metadata": {},
   "source": [
    "3. Write a program to swap two numbers in Python with the help of a temporary variable. "
   ]
  },
  {
   "cell_type": "code",
   "execution_count": 8,
   "metadata": {},
   "outputs": [
    {
     "name": "stdout",
     "output_type": "stream",
     "text": [
      "Before Swapping :  5 10\n",
      "After Swap :  10 5\n"
     ]
    }
   ],
   "source": [
    "a = 5\n",
    "b = 10\n",
    "print(\"Before Swapping : \",a,b)\n",
    "\n",
    "temp = a\n",
    "a = b\n",
    "b = temp\n",
    "print(\"After Swap : \",a,b)"
   ]
  },
  {
   "cell_type": "markdown",
   "metadata": {},
   "source": [
    "4. Write a program to swap two numbers in Python without using a temporary variable.\n"
   ]
  },
  {
   "cell_type": "code",
   "execution_count": 10,
   "metadata": {},
   "outputs": [
    {
     "name": "stdout",
     "output_type": "stream",
     "text": [
      "Before Swapping :  5 10\n",
      "After Swapping :  10 5\n"
     ]
    }
   ],
   "source": [
    "a = 5\n",
    "b = 10\n",
    "\n",
    "print(\"Before Swapping : \",a,b)\n",
    "\n",
    "a= a+b\n",
    "b= a-b\n",
    "a= a-b\n",
    "\n",
    "print(\"After Swapping : \",a,b)"
   ]
  },
  {
   "cell_type": "markdown",
   "metadata": {},
   "source": [
    "5. Write a program to convert fahrenheit to kelvin and celsius both.\n"
   ]
  },
  {
   "cell_type": "code",
   "execution_count": 9,
   "metadata": {},
   "outputs": [
    {
     "name": "stdout",
     "output_type": "stream",
     "text": [
      "Fahrenheit: 32\n",
      "Celsius: 0.0\n",
      "Kelvin: 273.15\n"
     ]
    }
   ],
   "source": [
    "f = 32\n",
    "c=(f-32)*5/9\n",
    "k=c+ 273.15\n",
    "\n",
    "print(\"Fahrenheit:\",f)\n",
    "print(\"Celsius:\",c)\n",
    "print(\"Kelvin:\",k)"
   ]
  },
  {
   "cell_type": "markdown",
   "metadata": {},
   "source": [
    "6. Write a program to demonstrate all the available data types in Python. Hint: Use type() function.\n"
   ]
  },
  {
   "cell_type": "code",
   "execution_count": 15,
   "metadata": {},
   "outputs": [
    {
     "name": "stdout",
     "output_type": "stream",
     "text": [
      "<class 'str'>\n",
      "<class 'int'>\n",
      "<class 'float'>\n",
      "<class 'complex'>\n",
      "<class 'list'>\n",
      "<class 'tuple'>\n",
      "<class 'bool'>\n",
      "<class 'dict'>\n",
      "<class 'set'>\n",
      "<class 'bytes'>\n"
     ]
    }
   ],
   "source": [
    "string1 = \"lets_upgrade\"\n",
    "integer1 = 33\n",
    "float1 = 4.5\n",
    "complex1= 5+3j\n",
    "lst = [1,2,34,9]\n",
    "tup = (5,'program', 1+3j)\n",
    "boolean = True\n",
    "dict1 = {\"name\":\"Mohit\",\"surname\":\"Agarwala\",\"age\":23}\n",
    "set1 = {\"mohit\",23,76.7,8+9j,'howdy'}\n",
    "byte = b'111110010'\n",
    "\n",
    "print(type(string1))\n",
    "print(type(integer1))\n",
    "print(type(float1))\n",
    "print(type(complex1))\n",
    "print(type(lst))\n",
    "print(type(tup))\n",
    "print(type(boolean))\n",
    "print(type(dict1))\n",
    "print(type(set1))\n",
    "print(type(byte))"
   ]
  },
  {
   "cell_type": "markdown",
   "metadata": {},
   "source": [
    "7. Create a Markdown cell in jupyter and list the steps discussed in the session by Dr. DarshanIngle sir to create Github profile and upload Githubs Assignment link. "
   ]
  },
  {
   "cell_type": "markdown",
   "metadata": {},
   "source": [
    "### Creating Github Profile and uploading the Assignment\n",
    "\n",
    "- Sign up in github website\n",
    "- Create a new repository under the name Letsupgrade AI-ML\n",
    "- Create a folder in desktop\n",
    "- install Git\n",
    "- git init\n",
    "- git remote add origin\n",
    "\n",
    "\n"
   ]
  },
  {
   "cell_type": "code",
   "execution_count": null,
   "metadata": {},
   "outputs": [],
   "source": []
  }
 ],
 "metadata": {
  "kernelspec": {
   "display_name": "Python 3",
   "language": "python",
   "name": "python3"
  },
  "language_info": {
   "codemirror_mode": {
    "name": "ipython",
    "version": 3
   },
   "file_extension": ".py",
   "mimetype": "text/x-python",
   "name": "python",
   "nbconvert_exporter": "python",
   "pygments_lexer": "ipython3",
   "version": "3.7.6"
  },
  "toc": {
   "base_numbering": 1,
   "nav_menu": {
    "height": "227px",
    "width": "214px"
   },
   "number_sections": true,
   "sideBar": true,
   "skip_h1_title": true,
   "title_cell": "Table of Contents",
   "title_sidebar": "Contents",
   "toc_cell": false,
   "toc_position": {},
   "toc_section_display": true,
   "toc_window_display": true
  }
 },
 "nbformat": 4,
 "nbformat_minor": 4
}
